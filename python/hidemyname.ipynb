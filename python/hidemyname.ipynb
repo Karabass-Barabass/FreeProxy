{
 "cells": [
  {
   "cell_type": "markdown",
   "metadata": {},
   "source": [
    "# <center>DISCLAIMER !!!</center>                                    \n",
    "\n",
    "1) Вся приведенная здесь информация даётся исключительно в просветительских целях. Пользуйтесь на свой страх и риск.    \n",
    "2) Нет никакой гарантии, что описанный метод и соответствующий софт будет работать с будущими версиями защиты.  \n",
    "3) Всё изложение ведётся примерно в том порядке, в котором я это исследовал. Если у Вас получится лучше, я за Вас рад, но кидаться в меня какашками право же не стоит.   \n",
    "4) Ну и наконец, если приведённый здесь код **НЕ ЗАРАБОТАЕТ**, это ещё не значит что я плохой, и кидаться в меня вышеназванными предметами тоже не надо. Просто время жизни подобного кода - полгода-год, не более. Потом меняется дизайн сайта и в том числе защита. Меняется незначительно, но скраппер обычно привязывается к мелким деталям на страничке. Таким как имена классов и т.п. Однако обновить уже существующий скраппер гораздо легче, чем писать с нуля. "
   ]
  },
  {
   "cell_type": "code",
   "execution_count": null,
   "metadata": {},
   "outputs": [],
   "source": [
    "import requests as rqs\n",
    "import time\n",
    "from bs4 import BeautifulSoup as soup\n",
    "import subprocess"
   ]
  },
  {
   "cell_type": "markdown",
   "metadata": {},
   "source": [
    "Сервис **[hidemy.name](https://hidemy.name)**, использует защиту от **[Cloudflare](https://www.cloudflare.com/)**, которая якобы считается надёжной и позиционируется в том числе как защита от Ddos-атак. Как мы скоро увидим, это несколько не соответствует объективной реальности.  \n",
    "Давайте для начала попробуем прочитать список прокси с **[hidemy.name](https://hidemy.name/en/proxy-list/)** самой низкоуровневой питоньей библиотекой **urllib**"
   ]
  },
  {
   "cell_type": "code",
   "execution_count": null,
   "metadata": {},
   "outputs": [],
   "source": [
    "import urllib.request as urlrq\n",
    "import urllib.error as err\n",
    "\n",
    "hidemy_url=\"https://hidemy.name/en/proxy-list/\"\n",
    "try:\n",
    "    urlrq.urlopen(hidemy_url)\n",
    "except err.URLError as e :\n",
    "    s=str(e.read().decode(\"utf-8\"))\n",
    "    file=open(\"hideme_403.html\", \"wt\")\n",
    "    file.write(s)\n",
    "    file.close()\n",
    "    print(e.code)"
   ]
  },
  {
   "cell_type": "markdown",
   "metadata": {},
   "source": [
    "Сервер вернул код статуса 403 - **Forbidden**. Откроем сохранённый файл в браузере. Сразу видим, что **Access denied**, и пояснение, что хозяин сайта забанил нас из-за не понравившейся ему сигнатуры браузера. Что не удивительно. Настоящий браузер присылает в запросе множество дополнительной информации в заголовках, чего мы не сделали. Исправим это, попытаемся притвориться браузером:"
   ]
  },
  {
   "cell_type": "code",
   "execution_count": null,
   "metadata": {},
   "outputs": [],
   "source": [
    "#Попробуйте здесь закомментировать или наоборот раскомментировать некоторые заголовки и посмотрите что получится    \n",
    "rq=urlrq.Request(hidemy_url)\n",
    "rq.add_header(\"User-Agent\", \"Mozilla/5.0 (X11; Linux x86_64; rv:59.0) Gecko/20100101 Firefox/59.0\")\n",
    "rq.add_header(\"Accept\", \"text/html,application/xhtml+xml,application/xml;q=0.9,*/*;q=0.8\")\n",
    "#rq.add_header(\"Accept-Encoding\", \"gzip, deflate\")\n",
    "#rq.add_header(\"Accept-Language\", \"ru-RU,ru;q=0.8,en-US;q=0.5,en;q=0.3\")\n",
    "#rq.add_header(\"Connection\", \"keep-alive\")\n",
    "try:\n",
    "    urlrq.urlopen(rq)\n",
    "except err.URLError as e :\n",
    "    s=str(e.read().decode(\"utf-8\"))\n",
    "    file=open(\"hideme_503.html\", \"wt\")\n",
    "    file.write(s)\n",
    "    file.close()   \n",
    "    print(e.code)"
   ]
  },
  {
   "cell_type": "markdown",
   "metadata": {},
   "source": [
    "Видим что код статуса теперь 503 - **Service Unavailable**. Открыв сохраненный файл в браузере видим, что нас просят подождать 5 секунд, пока наш якобы \"браузер\" проверяется. Этот пример показывает, насколько важны тут заголовки. И хотя в дальнейшем мы будем пользоваться более высокоуровневой библиотекой **requests**, которая по умолчанию вроде бы подставляет более вменяемые заголовки (в чем тут дело конкретно не разбирался), надёжнее будет собирать их ручками. Что и сделаем:"
   ]
  },
  {
   "cell_type": "code",
   "execution_count": null,
   "metadata": {},
   "outputs": [],
   "source": [
    "# Заголовки из mozilla Firefox\n",
    "firefox={\n",
    "\"Accept\": \"text/html,application/xhtml+xml,application/xml;q=0.9,*/*;q=0.8\",    \n",
    "\"Accept-Encoding\": \"gzip, deflate\", \n",
    "\"Accept-Language\": \"ru-RU,ru;q=0.8,en-US;q=0.5,en;q=0.3\",\n",
    "\"Connection\": \"keep-alive\",\n",
    "\"Host\": \"hidemy.name\",\n",
    "\"Referer\": \"https://hidemy.name/en/\",        \n",
    "\"Upgrade-Insecure-Requests\": \"1\",    \n",
    "\"User-Agent\":\"Mozilla/5.0 (X11; Linux x86_64; rv:59.0) Gecko/20100101 Firefox/59.0\"   \n",
    "}"
   ]
  },
  {
   "cell_type": "markdown",
   "metadata": {},
   "source": [
    "Посмотрим теперь на код сохранённого файла. Видно, что проверка сводится к выполнению некоего джаваскрипта. Посмотрев на скрипт, нетрудно понять, что он ждёт 4 секунды, после чего вычисляет немудряжий арифметический пример, записывает результат в скрытую форму и отправляет результат на сервер. Ничего сложного. Единственное что напрягает, это хитрый способ записи чисел. \n",
    "\n",
    "\n",
    "Например запись **(!+[]+!![]+!![]+!![]+!![]+!![]+!![]+!![]+!![]+[])** означает **9**.\n",
    "\n",
    "На самом деле не бином Ньютона. Всё сводится к внутренним трюкам джаваскрипта при преобразовании типов в выражениях. Можно было бы достаточно просто написать интерпретатор для таких \"чисел\". Но во-первых это скучно. Во-вторых подобных трюков в джаваскрипте море. И мы не можем быть уверены, что нам не подкинут нечто, на чём интерпретатор сломается. Лучше выполнить пример на какой-то стандартной javascript-машине. \n",
    " Для питона такая есть. Называется **PyV8** и представляет собой питонью оболочку движка **V8**. К сожалению у меня на дистрибутив Anaconda она почему-то отказалась ставиться. Нужна она мне не то чтоб очень, поэтому разбираться не стал. Ибо **node.js** стоит обычно у всех (у меня во всяком случае) и проще просто вызвать **node**.  \n",
    "Итого, наши дальнейшие действия:  \n",
    "1) Читаем страничку.  \n",
    "2) Выделяем оттуда арифметический пример.  \n",
    "3) Отдаём его javasript-машине.  \n",
    "4) Забиваем ответ в форму.  \n",
    "5) Отправляем форму на сервер."
   ]
  },
  {
   "cell_type": "code",
   "execution_count": null,
   "metadata": {},
   "outputs": [],
   "source": [
    "# Получает скрипт из странички\n",
    "# Тут просто разные манипуляции с поиском и обрезанием строк, и немного джаваскрипта\n",
    "def getScript(html):\n",
    "    try:\n",
    "        script=\"var \"\n",
    "        s=html[html.index(\"setTimeout\"):]\n",
    "        a=s.split(\"=\")\n",
    "        name=a[0][a[0].rfind(\",\")+1:].strip()\n",
    "        script=script+name+\"=\"\n",
    "        a1=a[1].split('\"')\n",
    "        name=name+\".\"+a1[1]\n",
    "        script=script+a[1]\n",
    "        script=script[:script.index(\";\")+1]+\"\\n\"\n",
    "        script=script+html[html.index(name):]\n",
    "        script=script[:script.index(\"value\")]\n",
    "        script=script[:script.rindex(\";\")+1]+\"\\n\"\n",
    "        script=script+'var t=\"hidemy.name\";\\n'\n",
    "        script=script+\"var a=(\"+name+\"+t.length).toFixed(10);\\n\"\n",
    "        script=script+\"console.log(a);\\n\"\n",
    "        return script\n",
    "    except ValueError :\n",
    "        return None    "
   ]
  },
  {
   "cell_type": "markdown",
   "metadata": {},
   "source": [
    "Попробуем прочитать список прокси, выдернуть из странички скрипт и выполнить его в node"
   ]
  },
  {
   "cell_type": "code",
   "execution_count": null,
   "metadata": {},
   "outputs": [],
   "source": [
    "nodename=\"node\"                                  # если Вы под виндой, возможно это будет node.exe\n",
    "rsp=rqs.get(hidemy_url, headers=firefox)         # читаем, передавая в запросе вменяемые заголовки\n",
    "html=str(rsp.content.decode(rsp.encoding))       # получаем содержимое странички\n",
    "file=open(\"hideme_start.html\", \"wt\")             # сохраняем на всякий случай в файл  \n",
    "file.write(html)\n",
    "file.close()\n",
    "print(rsp.headers)                               # смотрим заголовки ответа\n",
    "script=getScript(html)                           # получаем скрипт и записываем в файл\n",
    "file=open(\"script.js\", \"wt\")                     # сохраняем на всякий случай в файл  \n",
    "file.write(script)\n",
    "file.close()\n",
    "s=subprocess.Popen(nodename+\" script.js\", shell=True, stdout=subprocess.PIPE) # выполняем скрипт\n",
    "s=s.stdout.read().decode(\"utf-8\")               # получаем результат выполнения скрипта\n",
    "print(s)"
   ]
  },
  {
   "cell_type": "markdown",
   "metadata": {},
   "source": [
    "Видим, что сервер кроме проверочной странички прислал куку с именем **__cfduid**. Куки придется отрабатывать. Заведём под них переменную. И оформим все наши результаты в виде функции. Первая её версия будет только получать проверочную страничку, вытаскивать и выполнять скрипт из неё, и устанавливать куку."
   ]
  },
  {
   "cell_type": "code",
   "execution_count": null,
   "metadata": {},
   "outputs": [],
   "source": [
    "# Подключение к hidemy.name\n",
    "cookies={}                                                                # для кук\n",
    "def hidemyConnect1():\n",
    "    global cookies\n",
    "    cookies={}\n",
    "    try:\n",
    "        rsp=rqs.get(hidemy_url, headers=firefox, cookies=cookies)         # читаем страничку\n",
    "        html=str(rsp.content.decode(rsp.encoding))    \n",
    "        script=getScript(html)                                            # получаем и записываем скрипт\n",
    "        if script==None:\n",
    "            return None\n",
    "        file=open(\"script.js\", \"wt\")                       \n",
    "        file.write(script)\n",
    "        file.close()\n",
    "        cc=rsp.cookies.get_dict()                                        # получаем и сохраняем куку\n",
    "        cookies.update(cc)\n",
    "        s=subprocess.Popen(nodename+\" script.js\", shell=True, stdout=subprocess.PIPE) # выполняем скрипт\n",
    "        s=s.stdout.read().decode(\"utf-8\")                                             # получаем результат \n",
    "        return s\n",
    "    except:\n",
    "        return None"
   ]
  },
  {
   "cell_type": "code",
   "execution_count": null,
   "metadata": {},
   "outputs": [],
   "source": [
    "# Проверяем:\n",
    "s=hidemyConnect1()\n",
    "print(s)\n",
    "print(cookies)"
   ]
  },
  {
   "cell_type": "markdown",
   "metadata": {},
   "source": [
    "Теперь надо сформировать ответ якобы из формы и отправить его серверу  (отправка происходит методом GET). Параметры запроса (а этот запрос и есть наш ответ, прошу прощения за небольшую путаницу !) это пары имя-значение, взятые из формы. Нужно аккуратно распарсить форму, вытащить из неё имена и значения полей, сложить всё это в список параметров, а имени **jschl_answer** присвоить значение, выданное нашим скриптом. Удобнее всего это сделать с помощью питоньей библиотеки **BeautifulSoup**. Напишем новую версию нашей функции hidemyConnect."
   ]
  },
  {
   "cell_type": "code",
   "execution_count": null,
   "metadata": {},
   "outputs": [],
   "source": [
    "def hidemyConnect2():\n",
    "    global cookies\n",
    "    try:\n",
    "        cookies={}\n",
    "        rsp=rqs.get(hidemy_url, headers=firefox)      # читаем страничку\n",
    "        html=str(rsp.content.decode(rsp.encoding))    \n",
    "        script=getScript(html)                        # получаем и записываем скрипт\n",
    "        if script==None:\n",
    "            return None\n",
    "        file=open(\"script.js\", \"wt\")                       \n",
    "        file.write(script)\n",
    "        file.close()\n",
    "        cc=rsp.cookies.get_dict()                    # получаем и сохраняем куку\n",
    "        cookies.update(cc)\n",
    "        s=subprocess.Popen(nodename+\" script.js\", shell=True, stdout=subprocess.PIPE) # выполняем скрипт\n",
    "        s=s.stdout.read().decode(\"utf-8\")                                             # получаем результат \n",
    "        # Обработка формы\n",
    "        param={}                                     # словарь для параметров\n",
    "        bsObj=soup(html, \"lxml\")                     # создаем объект BeautifulSoup\n",
    "        form=bsObj.find(\"form\")                      # находим форму\n",
    "        inputs=form.find_all(\"input\")                # находим в форме все теги input\n",
    "        for i in range(0, len(inputs)):              # проходимся по всему найденному списку  \n",
    "            name=inputs[i].attrs[\"name\"]             # получаем атрибут name\n",
    "            if name==\"jschl_answer\":                 # если имя jschl_answer, подсовываем туда результат скрипта\n",
    "                value=s.strip()                      # обрезаем \\n на конце\n",
    "            else:\n",
    "                value=inputs[i].attrs[\"value\"]       # получаем атрибут value из формы\n",
    "            param[name]=value                        # скидываем в список параметров\n",
    "        action=form.attrs[\"action\"]                  # получаем атрибут формы action\n",
    "        url=\"https://hidemy.name\"+action             # по этому адресу и надо посылать ответ\n",
    "        return url, param\n",
    "    except:\n",
    "        return None\n",
    "    \n",
    "# Проверяем:\n",
    "url, param=hidemyConnect2()\n",
    "print(url)\n",
    "print(param)"
   ]
  },
  {
   "cell_type": "markdown",
   "metadata": {},
   "source": [
    "Теперь всё готово для того, чтобы отправить новый запрос серверу. Надо только подождать 4 секунды. Давайте сделаем это:"
   ]
  },
  {
   "cell_type": "code",
   "execution_count": null,
   "metadata": {},
   "outputs": [],
   "source": [
    "url, param=hidemyConnect2()                                          # читаем страничку, получаем url и параметры\n",
    "time.sleep(4)                                                        # ждем 4 секунды\n",
    "rsp=rqs.get(url, headers=firefox, cookies=cookies, params=param)     # отправляем запрос\n",
    "html=str(rsp.content.decode(rsp.encoding))\n",
    "file=open(\"hideme_proxy.html\", \"wt\")                                 # записываем на диск\n",
    "file.write(html)\n",
    "file.close()\n",
    "print(rsp.status_code)                                               # печатаем статус"
   ]
  },
  {
   "cell_type": "markdown",
   "metadata": {},
   "source": [
    "Уррааа !!! Получили статус 200 !!! Страничка нормально прочитана !!!  \n",
    "Попробуем ещё раз !"
   ]
  },
  {
   "cell_type": "code",
   "execution_count": null,
   "metadata": {},
   "outputs": [],
   "source": [
    "rsp1=rqs.get(hidemy_url, headers=firefox, cookies=cookies)         \n",
    "html=str(rsp1.content.decode(rsp1.encoding))  \n",
    "file=open(\"test.html\", \"wt\")                                 \n",
    "file.write(html)\n",
    "file.close()\n",
    "print(rsp1.status_code)  "
   ]
  },
  {
   "cell_type": "markdown",
   "metadata": {},
   "source": [
    "Упссс... Здрассье я ваша тётя... Снова статус 503 и снова пришла проверочная страничка... Как же так ! Мы нормально прошли проверку и получили куку, а теперь начинать по новой ? Почему же в браузере всё работает ???   \n",
    "Лезем в браузер смотреть куки. Видим, что среди кук, полученных от сайта **[hidemy.name](https://hidemy.name)**, две выделяются названиями, содержащими **cf**, что как бы намекает на **Cloudflare**.Одну из этих кук - **__cfduid**, мы уже получили, а другую **cf_clearance** - нет. Может она пришла в браузер  раньше ? Нет, не похоже. Но на всякий случай давайте проверим.   \n",
    "Удаляем обе куки в браузере и снова заходим на **[hidemy.name](https://hidemy.name/en/proxy-list/)**. Снова проверка и через пять секунд список прокси. Снова смотрим куки. Чудеса... Обе на месте ! Наверно питонья библиотека **requests** глючит и выдаёт одну куку вместо положенных двух. Начинаем лопатить исходники...   \n",
    "Наконец после пары-тройки мегабайт просмотренного кода и пары-тройки литров выпитого кофе(хорошо ещё что не после пары-тройки бессонных ночей !), вспоминаем, что существует такая хитрая штука как редирект запросов. Сервер как бы говорит клиенту мол погоди. Раньше тут был ресурс, но теперь он переехал. Сейчас я тебя перенаправлю. И перенаправляет. А за одно может прислать какую-нибудь дополнительную информацию. Например куку...    \n",
    "В присылаемом питоньей библиотекой ответе это должно отражаться. Для чего в нем существует история - **history**. Смотрим историю:"
   ]
  },
  {
   "cell_type": "code",
   "execution_count": null,
   "metadata": {},
   "outputs": [],
   "source": [
    "rsp2=rsp.history[0]\n",
    "print(rsp2.status_code)\n",
    "print(str(rsp2.content.decode(rsp2.encoding)))\n",
    "print(rsp2.headers)"
   ]
  },
  {
   "cell_type": "markdown",
   "metadata": {},
   "source": [
    "В истории лежит ответ с кодом 302 - **Moved Temporarily**, немудрящий html, и урааа !!! В заголовке нашлась та самая потерявшаяся кука **cf_clearance** !!! Напишем следующую версию нашей функции **hidemyConnect**, сохраняющую эту куку. К счастью новая версия и будет окончательной.   \n",
    "\n",
    "Дополнительная мораль сей басни такова: **ВСЕ БАГИ У ВАС В КОДЕ !!!** Да, у этого правила тоже есть исключения. Я сам отлавливал баги и в библиотеках и в компиляторах, а однажды даже в системе команд процессора (не интел, не арм и не спарк). Однако если у Вас что-то упорно не получается, хорошо подумайте, прежде чем лезть в исходники библиотек. **ОЧЕНЬ** хорошо подумайте."
   ]
  },
  {
   "cell_type": "code",
   "execution_count": null,
   "metadata": {},
   "outputs": [],
   "source": [
    "def hidemyConnect():\n",
    "    global cookies\n",
    "    try:\n",
    "        cookies={}\n",
    "        rsp=rqs.get(hidemy_url, headers=firefox)      # читаем страничку\n",
    "        html=str(rsp.content.decode(rsp.encoding))    \n",
    "        script=getScript(html)                        # получаем и записываем скрипт\n",
    "        if script==None:\n",
    "            return None\n",
    "        file=open(\"script.js\", \"wt\")                       \n",
    "        file.write(script)\n",
    "        file.close()\n",
    "        cc=rsp.cookies.get_dict()                    # получаем и сохраняем куку\n",
    "        cookies.update(cc)\n",
    "        s=subprocess.Popen(nodename+\" script.js\", shell=True, stdout=subprocess.PIPE) # выполняем скрипт\n",
    "        s=s.stdout.read().decode(\"utf-8\")                                             # получаем результат \n",
    "        # Обработка формы\n",
    "        param={}                                     # словарь для параметров\n",
    "        bsObj=soup(html, \"lxml\")                     # создаем объект BeautifulSoup\n",
    "        form=bsObj.find(\"form\")                      # находим форму\n",
    "        inputs=form.find_all(\"input\")                # находим в форме все теги input\n",
    "        for i in range(0, len(inputs)):              # проходимся по всему найденному списку  \n",
    "            name=inputs[i].attrs[\"name\"]             # получаем атрибут name\n",
    "            if name==\"jschl_answer\":                 # если имя jschl_answer, подсовываем туда результат скрипта\n",
    "                value=s.strip()                      # обрезаем \\n на конце\n",
    "            else:\n",
    "                value=inputs[i].attrs[\"value\"]       # получаем атрибут value из формы\n",
    "            param[name]=value                        # скидываем в список параметров\n",
    "        action=form.attrs[\"action\"]                  # получаем атрибут формы action\n",
    "        url=\"https://hidemy.name\"+action             # по этому адресу и надо посылать ответ\n",
    "        # Отправляем проверочный ответ\n",
    "        time.sleep(4)                                # ждем 4 секунды\n",
    "        rsp=rqs.get(url, headers=firefox, cookies=cookies, params=param)     # отправляем запрос\n",
    "        html=str(rsp.content.decode(rsp.encoding))\n",
    "        rsp=rsp.history[0]\n",
    "        cc=rsp.cookies.get_dict()                    # получаем и сохраняем куку\n",
    "        cookies.update(cc)\n",
    "        return html\n",
    "    except:\n",
    "        return None\n",
    "    \n",
    "    \n",
    "# Проверяем:\n",
    "hidemyConnect()\n",
    "print(cookies)"
   ]
  },
  {
   "cell_type": "markdown",
   "metadata": {},
   "source": [
    "Прекрасно ! В списке видны две куки. Снова пытаемся прочитать штатно:"
   ]
  },
  {
   "cell_type": "code",
   "execution_count": null,
   "metadata": {},
   "outputs": [],
   "source": [
    "rsp1=rqs.get(hidemy_url, headers=firefox, cookies=cookies)         \n",
    "html=str(rsp1.content.decode(rsp1.encoding))  \n",
    "file=open(\"test.html\", \"wt\")                                 \n",
    "file.write(html)\n",
    "file.close()\n",
    "print(rsp1.status_code)  "
   ]
  },
  {
   "cell_type": "markdown",
   "metadata": {},
   "source": [
    "Получили 200. Открывая сохраненный файл в браузере, видим список прокси. Грозная защита  **[Cloudflare](https://www.cloudflare.com/)** успешно преодолена ! Теперь мы можем заDdosить весь интернет ! Или что более миролюбиво и более практично, качать на халяву список прокси с **[hidemy.name](https://hidemy.name)**. Остался только последний шаг. Распарсить полученную страничку со списком прокси и вывести прокси в виде списка, чтобы этим можно было пользоваться. Это легко сделать с помощью той же библиотеки **BeautifulSoup**, примерно вот так:"
   ]
  },
  {
   "cell_type": "code",
   "execution_count": null,
   "metadata": {},
   "outputs": [],
   "source": [
    "proxies=[]\n",
    "bsObj=soup(html, \"html.parser\")                     \n",
    "table=bsObj.find(\"tbody\")                      \n",
    "trs=table.find_all(\"tr\")\n",
    "tds=trs[0].find_all(\"td\")\n",
    "ip_addr=tds[0].contents[0]\n",
    "port=tds[1].contents[0]\n",
    "proxies.append([ip_addr, port])"
   ]
  },
  {
   "cell_type": "code",
   "execution_count": null,
   "metadata": {},
   "outputs": [],
   "source": [
    "# Парсит страничку из hidemy.name\n",
    "def parseHidemy(html):\n",
    "    proxies=[]\n",
    "    bsObj=soup(html, \"html.parser\")                     \n",
    "    table=bsObj.find(\"tbody\") \n",
    "    trs=table.find_all(\"tr\")\n",
    "    for i in range(0, len(trs)):\n",
    "        tds=tds=trs[i].find_all(\"td\")\n",
    "        ip_addr=tds[0].contents[0]\n",
    "        port=tds[1].contents[0]\n",
    "        proxies.append([ip_addr, port])\n",
    "    return proxies;\n",
    "\n",
    "# Проверяем\n",
    "proxies=parseHidemy(html)\n",
    "print(proxies)"
   ]
  },
  {
   "cell_type": "markdown",
   "metadata": {},
   "source": [
    "Остался только небольшой завершающий штрих картины. Ресурс **hidemy.name** довольно гибко управляет поиском прокси, позволяя выбрать страну расположения прокси, номер порта, скорость, тип протокола и уровень анонимности. Это может оказаться полезным. Сделаем его настройку из скрипта.   \n",
    "На страничке для поиска прокси с заданными параметрами, служит кнопка **Show**. По коду странички ясно, что она связана с джаваскриптом **search()**, который осуществляет считывание настроек поиска, формирует из них параметры и делает GET-запрос. Так же параметром запроса передается номер странички, с которой читаются прокси. В каждой страничке по 64 прокси, и откуда читать, задаётся параметром **start** - первым номером прокси, с которого надо читать. Например для второй странички он будет 64.   \n",
    "\n",
    "Разберёмся со странами. Как видно из кода странички, чекбоксы выбора стран заключены в теги **label**. Получить название и код страны можно примерно так: "
   ]
  },
  {
   "cell_type": "code",
   "execution_count": null,
   "metadata": {},
   "outputs": [],
   "source": [
    "bsObj=soup(html, \"html.parser\")                     \n",
    "labels=bsObj.find_all(\"label\")                      \n",
    "label=labels[10]                      # к примеру\n",
    "inp=label.find(\"input\")\n",
    "cls=inp.attrs[\"class\"]\n",
    "name=\"\"\n",
    "if \"choose-country\" in cls :\n",
    "    name=label.contents[4].contents[0]\n",
    "    name=name[:name.index(\"(\")].strip()\n",
    "    code=inp.attrs[\"id\"]\n",
    "    code=code[code.rindex(\"_\")+1:]\n",
    "    print(name)\n",
    "    print(code)"
   ]
  },
  {
   "cell_type": "code",
   "execution_count": null,
   "metadata": {},
   "outputs": [],
   "source": [
    "# Получение списка стран\n",
    "def getCountries(bsObj):\n",
    "    countries=[]\n",
    "    labels=bsObj.find_all(\"label\")                      \n",
    "    for i in range(0, len(labels)):\n",
    "        label=labels[i]\n",
    "        inp=label.find(\"input\")\n",
    "        try:\n",
    "            cls=inp.attrs[\"class\"]\n",
    "            if \"choose-country\" in cls :\n",
    "                name=label.contents[4].contents[0]\n",
    "                name=name[:name.index(\"(\")].strip()\n",
    "                code=inp.attrs[\"id\"]\n",
    "                code=code[code.rindex(\"_\")+1:]\n",
    "                countries.append([name, code, \"yes\"])    # в элемент добавлеям yes, чтобы страна вошла в поиск\n",
    "            else : \n",
    "                print(label) # поскольку большинство тегов label содержат страны, выведем остальные чтобы\n",
    "                         # разобраться с ними \n",
    "        except:\n",
    "            print(label)\n",
    "    return countries\n",
    "# Проверяем\n",
    "countries=getCountries(bsObj)\n",
    "print(countries)"
   ]
  },
  {
   "cell_type": "markdown",
   "metadata": {},
   "source": [
    "Видим, что распечатался тег, соответствующий выбору всех стран, теги для ввода скорости и портов, теги для выбора протоколов и теги для выбора уровня анонимности. Тег для выбора всех стран нам не нужен. Теги скорости и портов это текстовые поля ввода. Чекбоксы, содержащие названия и коды есть только в тегах протоколов и анонимности. Вытащим в виде списков и их тоже. Напишем новую функцию, вытаскивающую сразу и страны и протоколы, и анонимность:"
   ]
  },
  {
   "cell_type": "code",
   "execution_count": null,
   "metadata": {},
   "outputs": [],
   "source": [
    "# Вытаскивает списки всех контролов\n",
    "def parseControls(bsObj):\n",
    "    countries=[]\n",
    "    protocols=[]\n",
    "    annons=[]\n",
    "    labels=bsObj.find_all(\"label\")                      \n",
    "    for i in range(0, len(labels)):\n",
    "        label=labels[i]\n",
    "        inp=label.find(\"input\")\n",
    "        if \"class\" in inp.attrs.keys():\n",
    "            cls=inp.attrs[\"class\"]\n",
    "            if \"choose-country\" in cls :\n",
    "                name=label.contents[4].contents[0]\n",
    "                name=name[:name.index(\"(\")].strip()\n",
    "                code=inp.attrs[\"id\"]\n",
    "                code=code[code.rindex(\"_\")+1:]\n",
    "                countries.append([name, code, \"yes\"])    \n",
    "        elif \"id\" in inp.attrs.keys():\n",
    "            if inp.attrs[\"id\"][0]==\"t\":\n",
    "                name=label.contents[2].contents[0]\n",
    "                code=inp.attrs[\"id\"][2:]\n",
    "                protocols.append([name, code, \"yes\"])\n",
    "            elif inp.attrs[\"id\"][0]==\"a\":\n",
    "                name=label.contents[2].contents[0]\n",
    "                code=inp.attrs[\"id\"][2:]\n",
    "                annons.append([name, code, \"yes\"])    \n",
    "    return countries, protocols, annons\n",
    "    \n",
    "# Проверяем\n",
    "countries, protocols, annons=parseControls(bsObj)    \n",
    "print(countries) \n",
    "print(protocols) \n",
    "print(annons)"
   ]
  },
  {
   "cell_type": "markdown",
   "metadata": {},
   "source": [
    "На этом исследовательская часть работы закончена. Настала пора собрать всё до кучи. У нас тут довольно много вспомогательных переменных. Куки, списки, заголовки... Поэтому удобно будет оформить окончательный код в виде класса, чтобы оно без дела под ногами не путалось. Чтобы не загромождать зря блокнот и чтобы было удобнее писать, я вынес класс в отдельный питоний файл, а код писал в **[WingIDE](https://wingware.com/)**. Здесь в блокноте будем только проверять."
   ]
  },
  {
   "cell_type": "code",
   "execution_count": null,
   "metadata": {},
   "outputs": [],
   "source": [
    "from hidemyname import HidemyName\n",
    "print(\"Готово !\")"
   ]
  },
  {
   "cell_type": "code",
   "execution_count": null,
   "metadata": {},
   "outputs": [],
   "source": [
    "hide=HidemyName()"
   ]
  },
  {
   "cell_type": "code",
   "execution_count": null,
   "metadata": {},
   "outputs": [],
   "source": [
    "f=hide.connect()\n",
    "f"
   ]
  },
  {
   "cell_type": "code",
   "execution_count": null,
   "metadata": {},
   "outputs": [],
   "source": [
    "c=hide.getCoutriesList()\n",
    "p=hide.getProtocolsList()\n",
    "a=hide.getAnnonsList()"
   ]
  },
  {
   "cell_type": "code",
   "execution_count": null,
   "metadata": {},
   "outputs": [],
   "source": [
    "#hide.getCountries()\n"
   ]
  },
  {
   "cell_type": "code",
   "execution_count": null,
   "metadata": {},
   "outputs": [],
   "source": [
    "#hide.delCountry(\"Afghanistan\")\n",
    "#c"
   ]
  },
  {
   "cell_type": "code",
   "execution_count": null,
   "metadata": {},
   "outputs": [],
   "source": [
    "#hide.addCountry(\"Afghanistan\")"
   ]
  },
  {
   "cell_type": "code",
   "execution_count": null,
   "metadata": {},
   "outputs": [],
   "source": [
    "#hide.addCountry(['Armenia', 'Australia', 'Austria'])\n",
    "#c"
   ]
  },
  {
   "cell_type": "code",
   "execution_count": null,
   "metadata": {},
   "outputs": [],
   "source": [
    "s=\"123\"\n",
    "type(s)\n",
    "if type(s) != list:\n",
    "    s=[s]\n",
    "s"
   ]
  },
  {
   "cell_type": "code",
   "execution_count": null,
   "metadata": {},
   "outputs": [],
   "source": [
    "import urllib.request as urlrq\n",
    "import urllib.error as err\n",
    "\n",
    "hidemy_url=\"https://www.proxyrotator.com/free-proxy-list/\"\n",
    "try:\n",
    "    urlrq.urlopen(hidemy_url)\n",
    "except err.URLError as e :\n",
    "    s=str(e.read().decode(\"utf-8\"))\n",
    "    file=open(\"proxyrotator.html\", \"wt\")\n",
    "    file.write(s)\n",
    "    file.close()\n",
    "    print(e.code)"
   ]
  },
  {
   "cell_type": "code",
   "execution_count": null,
   "metadata": {},
   "outputs": [],
   "source": [
    "#Попробуйте здесь закомментировать или наоборот раскомментировать некоторые заголовки и посмотрите что получится    \n",
    "rq=urlrq.Request(hidemy_url)\n",
    "rq.add_header(\"User-Agent\", \"Mozilla/5.0 (X11; Linux x86_64; rv:59.0) Gecko/20100101 Firefox/59.0\")\n",
    "rq.add_header(\"Accept\", \"text/html,application/xhtml+xml,application/xml;q=0.9,*/*;q=0.8\")\n",
    "#rq.add_header(\"Accept-Encoding\", \"gzip, deflate\")\n",
    "#rq.add_header(\"Accept-Language\", \"ru-RU,ru;q=0.8,en-US;q=0.5,en;q=0.3\")\n",
    "#rq.add_header(\"Connection\", \"keep-alive\")\n",
    "try:\n",
    "    res=urlrq.urlopen(rq)\n",
    "    s=str(res.read().decode(\"utf-8\"))\n",
    "    file=open(\"proxyrotator.html\", \"wt\")\n",
    "    file.write(s)\n",
    "    file.close()   \n",
    "    print(res.code)\n",
    "except err.URLError as e :\n",
    "    s=str(e.read().decode(\"utf-8\"))\n",
    "    file=open(\"proxyrotator.html\", \"wt\")\n",
    "    file.write(s)\n",
    "    file.close()   \n",
    "    print(e.code)"
   ]
  },
  {
   "cell_type": "code",
   "execution_count": null,
   "metadata": {},
   "outputs": [],
   "source": [
    "res=urlrq.urlopen(rq)"
   ]
  },
  {
   "cell_type": "code",
   "execution_count": null,
   "metadata": {},
   "outputs": [],
   "source": [
    "res"
   ]
  },
  {
   "cell_type": "code",
   "execution_count": 2,
   "metadata": {},
   "outputs": [
    {
     "data": {
      "text/plain": [
       "[1, 2, 3, 4]"
      ]
     },
     "execution_count": 2,
     "metadata": {},
     "output_type": "execute_result"
    }
   ],
   "source": [
    "a=[1,2,3,4]\n",
    "a"
   ]
  },
  {
   "cell_type": "markdown",
   "metadata": {},
   "source": [
    "На этом пожалуй всё. Если хотите, можете прочитать блокнот про **[proxyrotator](./proxyrotator_new.ipynb)**"
   ]
  },
  {
   "cell_type": "code",
   "execution_count": 5,
   "metadata": {},
   "outputs": [
    {
     "ename": "TypeError",
     "evalue": "append() takes exactly one argument (2 given)",
     "output_type": "error",
     "traceback": [
      "\u001b[0;31m---------------------------------------------------------------------------\u001b[0m",
      "\u001b[0;31mTypeError\u001b[0m                                 Traceback (most recent call last)",
      "\u001b[0;32m<ipython-input-5-50f00cb61041>\u001b[0m in \u001b[0;36m<module>\u001b[0;34m\u001b[0m\n\u001b[0;32m----> 1\u001b[0;31m \u001b[0ma\u001b[0m\u001b[0;34m.\u001b[0m\u001b[0mappend\u001b[0m\u001b[0;34m(\u001b[0m\u001b[0;36m5\u001b[0m\u001b[0;34m,\u001b[0m\u001b[0;36m6\u001b[0m\u001b[0;34m)\u001b[0m\u001b[0;34m\u001b[0m\u001b[0;34m\u001b[0m\u001b[0m\n\u001b[0m",
      "\u001b[0;31mTypeError\u001b[0m: append() takes exactly one argument (2 given)"
     ]
    }
   ],
   "source": [
    "a.append(5,6)"
   ]
  },
  {
   "cell_type": "code",
   "execution_count": 6,
   "metadata": {},
   "outputs": [
    {
     "data": {
      "text/plain": [
       "[1, 2, 3, 4, 5]"
      ]
     },
     "execution_count": 6,
     "metadata": {},
     "output_type": "execute_result"
    }
   ],
   "source": [
    "a"
   ]
  },
  {
   "cell_type": "code",
   "execution_count": 7,
   "metadata": {},
   "outputs": [
    {
     "data": {
      "text/plain": [
       "1"
      ]
     },
     "execution_count": 7,
     "metadata": {},
     "output_type": "execute_result"
    }
   ],
   "source": [
    "a[0]"
   ]
  },
  {
   "cell_type": "code",
   "execution_count": 9,
   "metadata": {},
   "outputs": [
    {
     "data": {
      "text/plain": [
       "4"
      ]
     },
     "execution_count": 9,
     "metadata": {},
     "output_type": "execute_result"
    }
   ],
   "source": [
    "a[-2]"
   ]
  },
  {
   "cell_type": "code",
   "execution_count": 10,
   "metadata": {},
   "outputs": [
    {
     "data": {
      "text/plain": [
       "[1, 2, 3, 4, 5]"
      ]
     },
     "execution_count": 10,
     "metadata": {},
     "output_type": "execute_result"
    }
   ],
   "source": [
    "a"
   ]
  },
  {
   "cell_type": "code",
   "execution_count": 11,
   "metadata": {},
   "outputs": [],
   "source": [
    "b=[6,7,8,9]"
   ]
  },
  {
   "cell_type": "code",
   "execution_count": 12,
   "metadata": {},
   "outputs": [
    {
     "data": {
      "text/plain": [
       "[1, 2, 3, 4, 5, 6, 7, 8, 9]"
      ]
     },
     "execution_count": 12,
     "metadata": {},
     "output_type": "execute_result"
    }
   ],
   "source": [
    "a+b"
   ]
  },
  {
   "cell_type": "code",
   "execution_count": 13,
   "metadata": {},
   "outputs": [],
   "source": [
    "a=[0,1,2,\"*\",4,5,6,7,8,9]"
   ]
  },
  {
   "cell_type": "code",
   "execution_count": 14,
   "metadata": {},
   "outputs": [
    {
     "data": {
      "text/plain": [
       "[0, 1, 2, 3, 4, 5, 6, 7, 8, 9]"
      ]
     },
     "execution_count": 14,
     "metadata": {},
     "output_type": "execute_result"
    }
   ],
   "source": [
    "a"
   ]
  },
  {
   "cell_type": "code",
   "execution_count": null,
   "metadata": {},
   "outputs": [],
   "source": []
  }
 ],
 "metadata": {
  "kernelspec": {
   "display_name": "Python 3",
   "language": "python",
   "name": "python3"
  },
  "language_info": {
   "codemirror_mode": {
    "name": "ipython",
    "version": 3
   },
   "file_extension": ".py",
   "mimetype": "text/x-python",
   "name": "python",
   "nbconvert_exporter": "python",
   "pygments_lexer": "ipython3",
   "version": "3.7.1"
  }
 },
 "nbformat": 4,
 "nbformat_minor": 2
}
