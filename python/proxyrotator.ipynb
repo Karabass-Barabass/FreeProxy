{
 "cells": [
  {
   "cell_type": "markdown",
   "metadata": {},
   "source": [
    "# <center>DISCLAIMER !!!</center>                                    \n",
    "\n",
    "1) Вся приведенная здесь информация даётся исключительно в просветительских целях. Пользуйтесь на свой страх и риск.    \n",
    "2) Нет никакой гарантии, что описанный метод и соответствующий софт будут работать с будущими версиями защиты.  \n",
    "3) Всё изложение ведётся примерно в том порядке, в котором я это исследовал. Если у Вас получится лучше, я за Вас рад, но кидаться в меня какашками право же не стоит."
   ]
  },
  {
   "cell_type": "code",
   "execution_count": 2,
   "metadata": {},
   "outputs": [
    {
     "name": "stdout",
     "output_type": "stream",
     "text": [
      "Готово !\n"
     ]
    }
   ],
   "source": [
    "import requests as rqs\n",
    "import base64\n",
    "from PIL import Image\n",
    "import numpy as np\n",
    "import math\n",
    "from bs4 import BeautifulSoup as soup \n",
    "import threading     \n",
    "import time \n",
    "print(\"Готово !\")"
   ]
  },
  {
   "cell_type": "markdown",
   "metadata": {},
   "source": [
    "Ресурс **[proxyrotator](https://www.proxyrotator.com/free-proxy-list/)** использует самодельную защиту. В отличии от **[hidemyname](https://hidemy.name/en/)** никаких джаваскриптов (проверяющих \"человечность\" клиента)  нас выполнять не просят. Зато формируют веб-страничку со списком прокси в непотребном для сканирования виде. Поле ip-адреса замусоривают невидимыми символами, а номер порта выводят ввиде картинки в формате **png**. И если для **[hidemyname](https://hidemy.name/en/)** ещё можно предположить, что его владельцы таким способом защищаются от Ddos-атак, то **[proxyrotator](https://www.proxyrotator.com/free-proxy-list/)** однозначно борется с халявщиками. Насколько это делается успешно, мы сейчас увидим.   \n",
    "\n",
    "Как и с **[hidemyname](https://hidemy.name/en/)**, начнём с попыток простейшего чтения."
   ]
  },
  {
   "cell_type": "code",
   "execution_count": 4,
   "metadata": {},
   "outputs": [
    {
     "name": "stdout",
     "output_type": "stream",
     "text": [
      "200\n"
     ]
    }
   ],
   "source": [
    "import urllib.request as urlrq\n",
    "import urllib.error as err\n",
    "\n",
    "proxyrotator_url=\"https://www.proxyrotator.com/free-proxy-list/\"\n",
    "\n",
    "#Попробуйте здесь закомментировать или наоборот раскомментировать некоторые заголовки и посмотрите что получится    \n",
    "rq=urlrq.Request(proxyrotator_url)\n",
    "rq.add_header(\"User-Agent\", \"Mozilla/5.0 (X11; Linux x86_64; rv:59.0) Gecko/20100101 Firefox/59.0\")\n",
    "#rq.add_header(\"Accept\", \"text/html,application/xhtml+xml,application/xml;q=0.9,*/*;q=0.8\")\n",
    "#rq.add_header(\"Accept-Encoding\", \"gzip, deflate\")\n",
    "#rq.add_header(\"Accept-Language\", \"ru-RU,ru;q=0.8,en-US;q=0.5,en;q=0.3\")\n",
    "#rq.add_header(\"Connection\", \"keep-alive\")\n",
    "try:\n",
    "    res=urlrq.urlopen(rq)\n",
    "    s=str(res.read().decode(\"utf-8\"))\n",
    "    file=open(\"proxyrotator.html\", \"wt\")\n",
    "    file.write(s)\n",
    "    file.close()   \n",
    "    print(res.code)\n",
    "except err.URLError as e :\n",
    "    s=str(e.read().decode(\"utf-8\"))\n",
    "    file=open(\"proxyrotator_403.html\", \"wt\")\n",
    "    file.write(s)\n",
    "    file.close()   \n",
    "    print(e.code)"
   ]
  },
  {
   "cell_type": "markdown",
   "metadata": {},
   "source": [
    "Без заголовков получили статус 403 - **Forbidden** и тот же  **Forbidden** в содержимом странички. С заголовками статус 200 и нормальная (но замусоренная !!!) страничка со списком прокси. Т.е. заголовки всё-таки проверяются. Наверно чтобы заворачивать совсем уж тупых ботов.   \n",
    "\n",
    "Как и для **[hidemyname](https://hidemy.name/en/)**,  читать будем с помощью библиотеки **requests**, а парсить html библиотекой **BeautifulSoup**."
   ]
  },
  {
   "cell_type": "code",
   "execution_count": 5,
   "metadata": {},
   "outputs": [
    {
     "name": "stdout",
     "output_type": "stream",
     "text": [
      "200\n"
     ]
    }
   ],
   "source": [
    "# Давайте прочтём страничку,  не забыв сохранить её в файл\n",
    "firefox={        # Заголовки из mozilla Firefox\n",
    "        \"Accept\": \"text/html,application/xhtml+xml,application/xml;q=0.9,*/*;q=0.8\",    \n",
    "        \"Accept-Encoding\": \"gzip, deflate\", \n",
    "        \"Accept-Language\": \"ru-RU,ru;q=0.8,en-US;q=0.5,en;q=0.3\",\n",
    "        \"Connection\": \"keep-alive\",\n",
    "        \"Host\": \"hidemy.name\",\n",
    "        \"Referer\": \"https://hidemy.name/en/\",        \n",
    "        \"Upgrade-Insecure-Requests\": \"1\",    \n",
    "        \"User-Agent\":\"Mozilla/5.0 (X11; Linux x86_64; rv:59.0) Gecko/20100101 Firefox/59.0\"   \n",
    "        }\n",
    "proxyrotator_url=\"https://www.proxyrotator.com/free-proxy-list/\n",
    "rsp=rqs.get(proxyrotator_url, headers=firefox)         \n",
    "html=str(rsp.content.decode(rsp.encoding))       \n",
    "file=open(\"proxyrotator.html\", \"wt\")               \n",
    "file.write(html)\n",
    "file.close()\n",
    "print(rsp.status_code)\n",
    "bsObj=soup(html, \"lxml\") "
   ]
  },
  {
   "cell_type": "markdown",
   "metadata": {},
   "source": [
    "Взглянув на html-код видим, что таблица на страничке только одна. В начале каждой строки таблицы задаётся куча стилей. Ещё одна такая куча стилей идёт в начале странички. Причем главным образом эти стили проделывают с отображением текста всякие непотребства. Например выставляют **display** в **none**, или **opacity** в 0, или задают абсолютную позицию, сдвигая координаты в отрицательную область... Короче всячески извращаются. Единственный вариант из всего виденного, не мешающий отображению, это **display:inline**. Понятно, что отображаться будут только те символы, стиль которых видим. Отсюда идея как можно вычистить мусор из поля ip-адреса. Из таблицы стилей извлекаем видимые стили. Для каждого символа ip-адреса смотрим, есть ли его стиль в таблице видимых. Если есть, принимаем символ. Если нет - отбрасываем. Необходимо только помнить, что локальная таблица стилей (в начале строки) приоритетнее глобальной (в начале страницы). Поэтому из локальной таблицы нужно вытаскивать ещё и невидимые стили. Если стиль видим в глобальной таблице, но невидим в локальной, он будет невидимым. Напишем функцию, вытаскивающую видимые и невидимые стили из таблиц."
   ]
  },
  {
   "cell_type": "code",
   "execution_count": 15,
   "metadata": {},
   "outputs": [
    {
     "data": {
      "text/plain": [
       "['none',\n",
       " 'sSaZZIsCjTQsDKC9yNCFOrrEPa6rjaPJNdNzhm9HZblMF',\n",
       " 'Yq-UVOxaJjmZZtdCtdZt7tsgReGOCktl2jORxAdHNTTNNc1GnD7f5',\n",
       " 'Vgy-rpxoBitnARUzhIiNb3DtdFYr',\n",
       " 'XRarRfzKqZv-vce02CPBognP9wSNgW000pGcx4eNIKTtwc7aINdOD2h',\n",
       " 'xMzGfrEOcOwVrFnI7ijLKsYsb744pGt1',\n",
       " 'YRdXEVkIleoQeLVG0cJiIe37glFPwErzfmPlMwrPd4MD',\n",
       " 'LKEYxBjxPaZPptJzTYCDpGYK0TSMcj073tYyf0O4mn6TP6arI',\n",
       " 'MhGfpBKMKpbNFnyPJzpgNkigENSwHoIHRi90bRRhSOx4hwIJpdY',\n",
       " 'mxUppTLgXtVpWevH38MrI1RAY',\n",
       " 'jNPLxriRL-avdOf5Aw0Dc7tMXM',\n",
       " 'KBSgHXYdlONXKbuIXx6a3MCSi3AEziN4kKyzzTic0iJcSZwc0j',\n",
       " 'KKhvuxqHcJMtqaQ7JL3R520sO6SwrB8bzA',\n",
       " 'mNcNQeOElqlwGvxtaiRaHiLez8dheIHSyj1J4yyf3shXoTCcO05zNJR',\n",
       " 'yclBqlKgtGVJyxC8mox9fGrJaLR48OwE679Rm0Do8XtK9wK2F',\n",
       " 'gT-akVPXjLkDbFLey85Prg8FC5wyjSxKRidFaGojZPWXjP1d5i',\n",
       " 'mHNMHkxMwLnhJfGiSKD3JYgNG',\n",
       " 'OiuFavbeuJopfNNJOeirb2ycJBiGmNRZTlGtA',\n",
       " 'jevhThYVSUqprNq3k7TnPY2tXrJWwKI',\n",
       " 'wERiZCQCFPuAuoJ2Nwz60j13x']"
      ]
     },
     "execution_count": 15,
     "metadata": {},
     "output_type": "execute_result"
    }
   ],
   "source": [
    "def getVisible(bsObj):\n",
    "    visible=[\"inline\"]           # это всегда видимый стиль\n",
    "    invisible=[\"none\"]           # это всегда невидимый стиль\n",
    "    styles=bsObj.find(\"style\").contents[0].split(\"\\n.\")\n",
    "    for i in range(1, len(styles)):\n",
    "        s=styles[i]\n",
    "        if 'inline' in s:\n",
    "            s=s[:s.index('{')].strip()\n",
    "            visible.append(s)\n",
    "        else:\n",
    "            s=s[:s.index('{')].strip()\n",
    "            invisible.append(s)            \n",
    "    return visible, invisible\n",
    "\n",
    "# Проверяем\n",
    "vis, invis=getVisible(bsObj)\n",
    "vis"
   ]
  },
  {
   "cell_type": "markdown",
   "metadata": {},
   "source": [
    "Посмотрите код странички и убедитесь, что из глобальной таблицы стилей (которая в начале страницы), вытащены все видимые стили.   \n",
    "Теперь можно попытаться вычистить мусор из ip-адреса. Но поскольку всё равно нужна глобальная таблица видимых стилей, имеет смысл сразу начать писать функцию парсинга странички, которую мы будем совершенствовать от версии к версии."
   ]
  },
  {
   "cell_type": "code",
   "execution_count": 27,
   "metadata": {},
   "outputs": [
    {
     "name": "stdout",
     "output_type": "stream",
     "text": [
      "25\n"
     ]
    },
    {
     "data": {
      "text/plain": [
       "['103.90.206.85',\n",
       " '103.60.137.2',\n",
       " '117.206.150.233',\n",
       " '1.197.11.139',\n",
       " '95.9.150.33',\n",
       " '190.211.115.66',\n",
       " '149.28.147.8',\n",
       " '77.232.167.200',\n",
       " '139.59.108.226',\n",
       " '103.84.36.130',\n",
       " '139.194.43.133',\n",
       " '103.253.27.53',\n",
       " '181.210.134.59',\n",
       " '103.60.137.2',\n",
       " '159.192.141.181',\n",
       " '36.67.24.109',\n",
       " '206.54.183.165',\n",
       " '203.81.93.238',\n",
       " '185.238.239.81',\n",
       " '103.81.13.17',\n",
       " '200.69.70.134',\n",
       " '41.92.186.156',\n",
       " '139.255.25.106',\n",
       " '185.238.239.16',\n",
       " '199.189.86.111']"
      ]
     },
     "execution_count": 27,
     "metadata": {},
     "output_type": "execute_result"
    }
   ],
   "source": [
    "def parseIP(tr, globTab):\n",
    "    ip=\"\"\n",
    "    vis, invis=getVisible(tr)                            # видимые и невидимые стили\n",
    "    syms=tr.find_all(\"td\")[1].contents                   # получаем весь текст с мусором\n",
    "    for sym in syms:\n",
    "        sym=str(sym)\n",
    "        if sym[0]=='<':                                  # если начинается тегом\n",
    "            val=sym[sym.index('>')+1:sym.index('</')]    # вытаскиваем значение\n",
    "            style=sym[sym.index('\"')+1:sym.rindex('\"')]  # вытаскиваем стиль\n",
    "            if ':' in style:\n",
    "                style=style[style.index(':')+1:]\n",
    "            # условие означает, что стиль либо локально видим, либо видим глобально и не отменен локально    \n",
    "            if ((style in globTab) and (not style in invis)) or (style in vis):\n",
    "                ip=ip+val\n",
    "    return ip\n",
    "    \n",
    "def parseTR1(tr, globTab):\n",
    "    ip=parseIP(tr, globTab)\n",
    "    return ip\n",
    "\n",
    "def parsePage1(bsObj):\n",
    "    proxies=[]\n",
    "    globTab, invis=getVisible(bsObj)\n",
    "    table=bsObj.find(\"table\")\n",
    "    trs=table.find_all(\"tr\")\n",
    "    for i in range(1, len(trs)):\n",
    "        proxies.append(parseTR1(trs[i], globTab))\n",
    "    return proxies\n",
    "\n",
    "# Проверяем\n",
    "proxies=parsePage1(bsObj)\n",
    "print(len(proxies))\n",
    "proxies"
   ]
  },
  {
   "cell_type": "markdown",
   "metadata": {},
   "source": [
    "Откройте сохраненный файл в браузере, и убедитесь, что ip-адреса там видны именно такие.\n",
    "\n",
    "Разбираемся с картинками. Картинки лежат в той же таблице в виде кодированных Base-64 бинарных данных. Для распознавания картинки нам не надо обучать нейронную сетку, тут шрифт один и тот же. Можно гимпом (фотошопом если под Windows) нарезать картинок всех 10 цифр, а потом сдвигая потихоньку окно, сравнивать изображение в окне с каждой из цифр. Какая из 10 цифр наиболее похожа, ту и принимаем. Сравнивать картинки можно вычисляя оценку сходства как нормированное скалярное произведение картинок, представляя их длинными-длинными векторами. В математике это называется косинус угла. В цифровой обработке сигналов - свертка. Давайте сначала сохраним приходящие на страничке картинки на диск,чтобы потом нарезать из них цифр.  "
   ]
  },
  {
   "cell_type": "code",
   "execution_count": 56,
   "metadata": {},
   "outputs": [],
   "source": [
    "nPic=1\n",
    "def savePictures(bsObj):\n",
    "    global nPic\n",
    "    res=[]\n",
    "    table=bsObj.find(\"table\")\n",
    "    trs=table.find_all(\"tr\")\n",
    "    for i in range(1, len(trs)):\n",
    "        tds=trs[i].find_all(\"td\")\n",
    "        s=str(tds[2])\n",
    "        s=s[s.index(\"base64,\")+len(\"base64\")+1:s.index('\"/')].strip()\n",
    "        png=base64.b64decode(s)\n",
    "        name=\"./img/pic_\"+str(nPic)+\".png\"\n",
    "        file=open(name, \"wb\")        \n",
    "        file.write(png)\n",
    "        file.close()\n",
    "        nPic=nPic+1\n",
    "        \n",
    "# Запускаем и видим в подкаталоге img 25 картинок со странички\n",
    "savePictures(bsObj)"
   ]
  },
  {
   "cell_type": "markdown",
   "metadata": {},
   "source": [
    "Питон вообще-то змеюка медленная, как и положено ползучему гаду. А считать скалярные произведения это труд. Только для одной позиции окна и одной цифры надо перемножить два вектора размером 189 ! Для того чтобы ускорить такие вычисления, существует замечательная библиотека работы с массивами - **numpy** - numerical python. Кроме быстрых численных вычислений, она позволяет ещё быстро вырезать окна из многомерных массивов, что для нас тоже очень полезно. Поэтому все вычисления, связанные с картинками будем делать с помощью **numpy**. "
   ]
  },
  {
   "cell_type": "code",
   "execution_count": 152,
   "metadata": {},
   "outputs": [
    {
     "name": "stdout",
     "output_type": "stream",
     "text": [
      "9, 21\n"
     ]
    },
    {
     "data": {
      "image/png": "[encoded data removed]",
      "text/plain": [
       "<PIL.Image.Image image mode=L size=9x21 at 0x7F0E8D4E76A0>"
      ]
     },
     "execution_count": 152,
     "metadata": {},
     "output_type": "execute_result"
    }
   ],
   "source": [
    "# Попытаемся загрузить и преобразовать изображение в массив numpy\n",
    "pic=9                                                      # номер картинки\n",
    "img=Image.open(\"./img/\"+str(pic)+\".png\").convert('L')      # грузим и преобразуем в серый без альфа-канала \n",
    "w, h=img.size                                              # получаем размер\n",
    "a=np.array(img)                                            # в numpy\n",
    "a=a.reshape((w*h, ))                                       # преобразуем в одномерный\n",
    "a=a*1.0                                                    # преобразуем в плавающую точку\n",
    "a=a-a.sum()/(w*h)                                          # приводим среднее значение к нулю\n",
    "a=a/math.sqrt(a.dot(a))                                    # нормируем\n",
    "print(str(w)+\", \"+str(h))                                  # показываем размер\n",
    "img                                                        # показываем картинку"
   ]
  },
  {
   "cell_type": "code",
   "execution_count": 222,
   "metadata": {},
   "outputs": [
    {
     "name": "stdout",
     "output_type": "stream",
     "text": [
      "9\n",
      "-8.881784197001252e-16 должно быть около нуля\n",
      "0.9999999999999996 должно быть около 1\n"
     ]
    }
   ],
   "source": [
    "# Теперь сделаем всё то же самое, но только 10 раз, сохраняя результаты в массиве цифр\n",
    "digits=[]             # здесь у нас хранятся цифры в виде [массив_numpy, ширина]\n",
    "def loadDigits():\n",
    "    global digits\n",
    "    for num in range(0, 10):\n",
    "        img=img=Image.open(\"./img/\"+str(num)+\".png\").convert('L') # грузим и преобразуем в серый без альфа\n",
    "        w, h=img.size                                             # получаем размер\n",
    "        a=np.array(img)                                           # в numpy\n",
    "        a=a.reshape((w*h, ))                                      # преобразуем в одномерный\n",
    "        a=a*1.0                                                   # преобразуем в плавающую точку\n",
    "        a=a-a.sum()/(w*h)                                         # приводим среднее значение к нулю\n",
    "        a=a/math.sqrt(a.dot(a))                                   # нормируем\n",
    "        digits.append([a, w, h])\n",
    "\n",
    "# Проверяем\n",
    "loadDigits()\n",
    "a=digits[6]\n",
    "print(a[1])\n",
    "print(str(a[0].sum())+\" должно быть около нуля\")\n",
    "print(str(a[0].dot(a[0]))+\" должно быть около 1\")"
   ]
  },
  {
   "cell_type": "markdown",
   "metadata": {},
   "source": [
    "Приступаем к функции, сканирующей номер порта"
   ]
  },
  {
   "cell_type": "code",
   "execution_count": 223,
   "metadata": {},
   "outputs": [
    {
     "name": "stdout",
     "output_type": "stream",
     "text": [
      "25\n"
     ]
    },
    {
     "data": {
      "text/plain": [
       "[['103.90.206.85', '8080'],\n",
       " ['103.60.137.2', '10027'],\n",
       " ['117.206.150.233', '8080'],\n",
       " ['1.197.11.139', '9999'],\n",
       " ['95.9.150.33', '54749'],\n",
       " ['190.211.115.66', '43260'],\n",
       " ['149.28.147.8', '80'],\n",
       " ['77.232.167.200', '56030'],\n",
       " ['139.59.108.226', '80'],\n",
       " ['103.84.36.130', '8080'],\n",
       " ['139.194.43.133', '8080'],\n",
       " ['103.253.27.53', '8080'],\n",
       " ['181.210.134.59', '8080'],\n",
       " ['103.60.137.2', '49411'],\n",
       " ['159.192.141.181', '8080'],\n",
       " ['36.67.24.109', '37641'],\n",
       " ['206.54.183.165', '4433'],\n",
       " ['203.81.93.238', '8080'],\n",
       " ['185.238.239.81', '8090'],\n",
       " ['103.81.13.17', '57803'],\n",
       " ['200.69.70.134', '999'],\n",
       " ['41.92.186.156', '37950'],\n",
       " ['139.255.25.106', '80'],\n",
       " ['185.238.239.16', '8090'],\n",
       " ['199.189.86.111', '9801']]"
      ]
     },
     "execution_count": 223,
     "metadata": {},
     "output_type": "execute_result"
    }
   ],
   "source": [
    "def parsePort(td):\n",
    "    s=str(td)\n",
    "    # получаем картинку\n",
    "    s=s[s.index(\"base64,\")+len(\"base64\")+1:s.index('\"/')].strip()  # получаем строку\n",
    "    png=base64.b64decode(s)                                        # декодируем\n",
    "    file=open(\"potr.png\", \"wb\")                                    # пишем в файл\n",
    "    file.write(png)\n",
    "    file.close()\n",
    "    # грузим картинку\n",
    "    img=Image.open(\"potr.png\").convert('L') # грузим и преобразуем в серый без альфа-канала\n",
    "    W, H=img.size                           # получаем размер\n",
    "    npimg=np.array(img)                     # преобразуем в numpy\n",
    "    # Находим начало изображения цифр\n",
    "    pos=1                                   # позиция окна сканирования\n",
    "    for pos in range(1, W):    \n",
    "        test=npimg[:, pos]                  # в тестовый массив вырезаем вертикальную линию\n",
    "        if test.max() != test.min():        # двигаемся вперёд до тех пор, пока не встретятся \n",
    "            break                           # различные пиксели на одной вертикали\n",
    "    # Начинаем собственно сканирование\n",
    "    numb=\"\"                                 # наше число\n",
    "    eof=False                               # признак конца сканирования\n",
    "    while (not eof):\n",
    "        d=[]                                # массив оценок для каждой цифры\n",
    "        e=[]                                # массив смещений для каждой цифры\n",
    "        eof=True\n",
    "        for i in range(0, 10):              # проходим по каждой цифре\n",
    "            dd=[]                           # массив оценок для цифры при смещении окна\n",
    "            ww=digits[i][1]                 # ширина цифры\n",
    "            hh=digits[i][2]                 # высота цифры\n",
    "            for j in range(-1, 2):          # пробуем каждую цифру при смещениях окна -1, 0, 1\n",
    "                if pos+j+ww < W:            # проверяем, впишется ли цифра в остаток картинки по ширине\n",
    "                    eof=False\n",
    "                    test=npimg[:,pos+j:pos+j+ww] # вырезаем с позиции+смещение окно шириной ww\n",
    "                    tt=test.copy()               # копируем, чтобы не затирать изображение\n",
    "                    tt=tt.reshape((ww*hh, ))     # преобразуем в одномерный массив\n",
    "                    tt=tt*1.0                    # преобразуем в плавающую точку\n",
    "                    tt=tt-tt.sum()/(ww*hh)       # приводим среднее значение к нулю\n",
    "                    tt=tt/math.sqrt(tt.dot(tt))  # нормируем\n",
    "                    prod=tt.dot(digits[i][0])    # вычисляем оценку - скалярное произведение\n",
    "                    dd.append(prod)              # сохраняем оценку\n",
    "            if not eof:\n",
    "                m=max(dd)                   # максимальная оценка при различных смещениях\n",
    "                im=dd.index(m)              # смещение окна для этой оценки (начинается с -1)\n",
    "                d.append(m)                 # сохраняем оценку и смещение\n",
    "                e.append(im-1)\n",
    "        # выбираем цифру с наивысшей оценкой\n",
    "        if not eof:\n",
    "            m=max(d)\n",
    "            im=d.index(m)\n",
    "            s=e[im]\n",
    "            if m > 0.9:                # если оценка велика, дописываем соответствующую цифру\n",
    "                numb=numb+str(im)\n",
    "                pos+=digits[im][1]+s   # и продвигаем позицию окна на ширину цифры\n",
    "            else:                      \n",
    "                pos+=1                 # если оценка недостаточна, сдвигаем окно на 1\n",
    "    return numb        \n",
    "\n",
    "# Наше тестовое окружение, сканирующее страничку\n",
    "def parseTR2(tr, globTab):\n",
    "    tds=tr.find_all(\"td\")\n",
    "    ip=parseIP(tr, globTab)\n",
    "    port=parsePort(tds[2])\n",
    "    return [ip, port]\n",
    "\n",
    "def parsePage2(bsObj):\n",
    "    proxies=[]\n",
    "    globTab, invis=getVisible(bsObj)\n",
    "    table=bsObj.find(\"table\")\n",
    "    trs=table.find_all(\"tr\")\n",
    "    for i in range(1, len(trs)):\n",
    "        proxies.append(parseTR2(trs[i], globTab))\n",
    "    return proxies\n",
    "\n",
    "# Проверяем\n",
    "loadDigits()\n",
    "proxies=parsePage2(bsObj)\n",
    "print(len(proxies))\n",
    "proxies"
   ]
  },
  {
   "cell_type": "markdown",
   "metadata": {},
   "source": [
    "Глядим на страничку в браузере и убеждаемся, что и ip-адреса и номера портов прочитаны верно.  "
   ]
  },
  {
   "cell_type": "markdown",
   "metadata": {},
   "source": [
    "На этом с защитой закончено. Однако к сожалению **[proxyrotator](https://www.proxyrotator.com/free-proxy-list/)**, в отличии от **[hidemyname](https://hidemy.name/en/)**, не имеет функции фильтрации списка. А она может быть полезной. Поэтому желательно вытаскивать не только ip-адрес и номер порта, но и другую информацию. Хотя бы о стране и скорости (протокол и анонимность на **proxyrotator** по-моему вообще не меняются.). Это позволит применить какую-то фильтрацию уже при формировании списка на выходе приложения. Давайте это сделаем: "
   ]
  },
  {
   "cell_type": "code",
   "execution_count": 225,
   "metadata": {},
   "outputs": [],
   "source": [
    "# Парсит скорость\n",
    "def parseSpeed(td):\n",
    "    ii=td.find_all(\"i\")\n",
    "    s=len(ii)\n",
    "    for i in ii:\n",
    "        if i.attrs[\"class\"][1] == \"fa-star-o\" :\n",
    "            s-=1\n",
    "    return s\n",
    "        \n",
    "# Парсит страну\n",
    "def parseCountry(td):\n",
    "    s=td.contents[1].strip()\n",
    "    if \",\" in s:\n",
    "        s=s.split(\",\")[1].strip()\n",
    "    return s\n",
    "    \n",
    "# Парсит строку таблицы\n",
    "def parseTR(tr):\n",
    "    result=[]\n",
    "    tds=tr.find_all(\"td\")\n",
    "    result.append(parseIP(tr, globTab))              # получаем ip-адрес\n",
    "    result.append(parsePort(tds[2]))                 # получаем номер порта\n",
    "    result.append(parseCountry(tds[3]))              # получаем страну\n",
    "    result.append(parseSpeed(tds[4]))                # получаем скорость\n",
    "    result.append(tds[5].contents[0].strip())        # получаем протокол\n",
    "    result.append(tds[6].contents[0].strip())        # получаем уровень анонимности\n",
    "    return result\n",
    "    \n",
    "    \n",
    "# Фильтр - пока ничего не делает, просто заглушка\n",
    "def filtr(proxy):\n",
    "    return [proxy[0], proxy[1]]\n",
    "\n",
    "# Чтение странички с proxyrotator\n",
    "def readPage(page):\n",
    "    result=[]\n",
    "    if page < 1:     # страницы там от 1 до 10\n",
    "        page=1\n",
    "    if page > 10:\n",
    "        page=10\n",
    "    rsp=rqs.get(proxyrotator_url+str(page)+'/', headers=firefox)         \n",
    "    html=str(rsp.content.decode(rsp.encoding))                      \n",
    "    \"\"\"  При желании сохраняем файл для контроля\n",
    "    file=open(\"proxyrotator.html\", \"wt\")               \n",
    "    file.write(html)\n",
    "    file.close()\n",
    "    \"\"\" \n",
    "    bsObj=soup(html, \"lxml\")                          # создаём объект для парсера\n",
    "    globTab, invis=getVisible(bsObj)                  # получаем глобальную таблицу видимых стилей\n",
    "    table=bsObj.find(\"tbody\")                         # таблица прокси\n",
    "    trs=table.find_all(\"tr\")                          # список строк\n",
    "    for tr in trs:\n",
    "        r=filtr(parseTR(tr, globTab))                 # парсим все строки, фильтруя результат\n",
    "        if r != None:\n",
    "            result.append(r)                          # сохраняем, если результат прошел фильтр \n",
    "    return result\n"
   ]
  },
  {
   "cell_type": "markdown",
   "metadata": {},
   "source": [
    "На этом почти всё. Осталось только собрать до кучи разбросанный по всему блокноту код. Сделаем это так же как в статье про **hidemyname**, оформив код в виде класса и вне блокнота. Отдельным файлом. При желании в блокноте можно его проверить."
   ]
  },
  {
   "cell_type": "code",
   "execution_count": 258,
   "metadata": {},
   "outputs": [],
   "source": [
    "s=[[\"aaa\", \"no\"], [\"bbb\", \"yes\"]]; a=[\"aaa\", \"no\"]"
   ]
  },
  {
   "cell_type": "code",
   "execution_count": 259,
   "metadata": {},
   "outputs": [
    {
     "data": {
      "text/plain": [
       "True"
      ]
     },
     "execution_count": 259,
     "metadata": {},
     "output_type": "execute_result"
    }
   ],
   "source": [
    "a in s"
   ]
  },
  {
   "cell_type": "code",
   "execution_count": null,
   "metadata": {},
   "outputs": [],
   "source": []
  }
 ],
 "metadata": {
  "kernelspec": {
   "display_name": "Python 3",
   "language": "python",
   "name": "python3"
  },
  "language_info": {
   "codemirror_mode": {
    "name": "ipython",
    "version": 3
   },
   "file_extension": ".py",
   "mimetype": "text/x-python",
   "name": "python",
   "nbconvert_exporter": "python",
   "pygments_lexer": "ipython3",
   "version": "3.7.1"
  }
 },
 "nbformat": 4,
 "nbformat_minor": 2
}
